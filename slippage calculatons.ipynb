{
 "cells": [
  {
   "cell_type": "markdown",
   "metadata": {},
   "source": [
    "### Algorithmic Market Making in Dealer Markets with Hedging and Market Impact\n",
    "\n",
    "This section deals witht the slippage calculation based on the Algorithmic Market Making in Dealer Markets with Hedging and Market Impact paper. It optimizies slippage based on supremum functions that are derived from market impact functions"
   ]
  },
  {
   "cell_type": "markdown",
   "metadata": {},
   "source": [
    "Here we assume a linear market impact model. "
   ]
  },
  {
   "cell_type": "code",
   "execution_count": 1,
   "metadata": {},
   "outputs": [],
   "source": [
    "import numpy as np\n",
    "from scipy.optimize import minimize_scalar\n",
    "\n",
    "#market impact functions\n",
    "\n",
    "def Lambda_b(delta, k_b = 0.01):\n",
    "    return k_b * delta\n",
    "\n",
    "def Lambda_a(delta, k_a):\n",
    "    return k_a * delta\n",
    "\n",
    "#define supremum functions for bid-ask\n",
    "\n",
    "def H_b(p, k_b = 0.01):\n",
    "    def objective(delta):\n",
    "        return -(Lambda_b(delta, k_b) * (delta - p))\n",
    "    result = minimize_scalar(objective, bounds = (p - 10, p + 10), method = \"bounded\")\n",
    "    return -result.fun\n",
    "\n",
    "def H_a(p, k_a = 0.01):\n",
    "    def objective(delta):\n",
    "        return -(Lambda_a(delta, k_a) * (delta - p))\n",
    "    result = minimize_scalar(objective, bounds = (p - 10, p + 10), method = \"bounded\") \n",
    "    return -result.fun\n",
    "\n",
    "def spread(h_a, h_b):\n",
    "    return (h_a - h_b)/h_a * 100"
   ]
  },
  {
   "cell_type": "markdown",
   "metadata": {},
   "source": [
    "Using an example of ask bid prices"
   ]
  },
  {
   "cell_type": "code",
   "execution_count": 2,
   "metadata": {},
   "outputs": [
    {
     "name": "stdout",
     "output_type": "stream",
     "text": [
      "Supremum function value for bid price (100): 109.99993058104565\n",
      "Supremum function value for ask price (102): 111.99992978597342\n",
      "The spread for these prices are: 1.7857146953124694\n"
     ]
    }
   ],
   "source": [
    "p_bid = 100\n",
    "p_ask = 102\n",
    "\n",
    "H_b_value= H_b(p_bid, 0.1)\n",
    "H_a_value = H_a(p_ask, 0.1)\n",
    "spread = spread(H_a_value, H_b_value)\n",
    "\n",
    "print(f\"Supremum function value for bid price ({p_bid}): {H_b_value}\")\n",
    "print(f\"Supremum function value for ask price ({p_ask}): {H_a_value}\")\n",
    "print(f\"The spread for these prices are: {spread}\")"
   ]
  },
  {
   "cell_type": "markdown",
   "metadata": {},
   "source": [
    "### Presentation and Publication: Loss and Slippage in Networks of Automated Market Makers\n",
    "\n",
    "This section deals with the slippage calculations from Presentation and Publication: Loss and Slippage in Networks of Automated Market Makers. It looks at two types of slipage calculations: linear and angular"
   ]
  },
  {
   "cell_type": "code",
   "execution_count": 3,
   "metadata": {},
   "outputs": [],
   "source": [
    "def linear_slippage(v, v_prime, phi_v, phi_v_prime):\n",
    "    linslip = (1 - v_prime) / (1 - v) * (v * phi_v_prime - v * phi_v)\n",
    "    return linslip\n",
    "\n",
    "def angular_slippage(v, v_prime, phi, f_prime):\n",
    "    theta_v = np.arctan(-1 / f_prime(phi(v)))\n",
    "    theta_v_prime = np.arctan(-1 / f_prime(phi(v_prime)))\n",
    "    angslip = theta_v_prime - theta_v\n",
    "    return angslip"
   ]
  },
  {
   "cell_type": "markdown",
   "metadata": {},
   "source": [
    "Example using Constant Product AMM"
   ]
  },
  {
   "cell_type": "code",
   "execution_count": 4,
   "metadata": {},
   "outputs": [
    {
     "name": "stdout",
     "output_type": "stream",
     "text": [
      "Linear Slippage: -0.10886621079036346\n",
      "Angular Slippage: -0.39479111969976155\n"
     ]
    }
   ],
   "source": [
    "def phi_constant_product(v):\n",
    "    return np.sqrt((1 - v) / v)\n",
    "\n",
    "def f_prime_constant_product(x):\n",
    "    return -1 / (x ** 2)\n",
    "\n",
    "v = 0.4\n",
    "v_prime = 0.6\n",
    "\n",
    "phi_v = phi_constant_product(v)\n",
    "phi_v_prime = phi_constant_product(v_prime)\n",
    "\n",
    "linslip = linear_slippage(v, v_prime, phi_v, phi_v_prime)\n",
    "angslip = angular_slippage(v, v_prime, phi_constant_product, f_prime_constant_product)\n",
    "\n",
    "print(f\"Linear Slippage: {linslip}\")\n",
    "print(f\"Angular Slippage: {angslip}\")"
   ]
  }
 ],
 "metadata": {
  "kernelspec": {
   "display_name": "Python 3",
   "language": "python",
   "name": "python3"
  },
  "language_info": {
   "codemirror_mode": {
    "name": "ipython",
    "version": 3
   },
   "file_extension": ".py",
   "mimetype": "text/x-python",
   "name": "python",
   "nbconvert_exporter": "python",
   "pygments_lexer": "ipython3",
   "version": "3.10.4"
  }
 },
 "nbformat": 4,
 "nbformat_minor": 2
}
